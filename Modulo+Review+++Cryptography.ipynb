{
 "cells": [
  {
   "cell_type": "markdown",
   "id": "a8d017a9",
   "metadata": {},
   "source": [
    "#### Modulus Operator\n",
    "\n",
    "`TODO`\n",
    "As practice, write in a comment next to each print statement what each of these expressions should evaluate to. Then, run the code block to confirm your answer."
   ]
  },
  {
   "cell_type": "code",
   "execution_count": 1,
   "id": "6a3133fa",
   "metadata": {},
   "outputs": [
    {
     "name": "stdout",
     "output_type": "stream",
     "text": [
      "0\n",
      "3\n",
      "2\n",
      "4\n",
      "8\n"
     ]
    }
   ],
   "source": [
    "print(10 % 5) #0\n",
    "print(8 % 5) #3\n",
    "print(2 % 9) #2\n",
    "print(-16 % 5) #4\n",
    "print(-2 % 10) #8"
   ]
  },
  {
   "cell_type": "markdown",
   "id": "bb0e2058",
   "metadata": {},
   "source": [
    "#### Fizz Buzz\n",
    "\n",
    "As a quick practice with modulus, write the Fizz-Buzz program in the next code block. Have a loop that counts from the numbers 1 to 100. It prints out each number, but if the number is divisible by 3, print `Fizz`, if the number is divisible by 5 print `Buzz`, and if the number is divisible by both 3 and 5 print `FizzBuzz`."
   ]
  },
  {
   "cell_type": "code",
   "execution_count": 2,
   "id": "00f87d9f",
   "metadata": {},
   "outputs": [
    {
     "name": "stdout",
     "output_type": "stream",
     "text": [
      "1\n",
      "2\n",
      "Fizz\n",
      "4\n",
      "Buzz\n",
      "Fizz\n",
      "7\n",
      "8\n",
      "Fizz\n",
      "Buzz\n",
      "11\n",
      "Fizz\n",
      "13\n",
      "14\n",
      "FizzBuzz\n",
      "16\n",
      "17\n",
      "Fizz\n",
      "19\n",
      "Buzz\n",
      "Fizz\n",
      "22\n",
      "23\n",
      "Fizz\n",
      "Buzz\n",
      "26\n",
      "Fizz\n",
      "28\n",
      "29\n",
      "FizzBuzz\n",
      "31\n",
      "32\n",
      "Fizz\n",
      "34\n",
      "Buzz\n",
      "Fizz\n",
      "37\n",
      "38\n",
      "Fizz\n",
      "Buzz\n",
      "41\n",
      "Fizz\n",
      "43\n",
      "44\n",
      "FizzBuzz\n",
      "46\n",
      "47\n",
      "Fizz\n",
      "49\n",
      "Buzz\n",
      "Fizz\n",
      "52\n",
      "53\n",
      "Fizz\n",
      "Buzz\n",
      "56\n",
      "Fizz\n",
      "58\n",
      "59\n",
      "FizzBuzz\n",
      "61\n",
      "62\n",
      "Fizz\n",
      "64\n",
      "Buzz\n",
      "Fizz\n",
      "67\n",
      "68\n",
      "Fizz\n",
      "Buzz\n",
      "71\n",
      "Fizz\n",
      "73\n",
      "74\n",
      "FizzBuzz\n",
      "76\n",
      "77\n",
      "Fizz\n",
      "79\n",
      "Buzz\n",
      "Fizz\n",
      "82\n",
      "83\n",
      "Fizz\n",
      "Buzz\n",
      "86\n",
      "Fizz\n",
      "88\n",
      "89\n",
      "FizzBuzz\n",
      "91\n",
      "92\n",
      "Fizz\n",
      "94\n",
      "Buzz\n",
      "Fizz\n",
      "97\n",
      "98\n",
      "Fizz\n"
     ]
    }
   ],
   "source": [
    "## TODO - Fizz Buzz\n",
    "i = 1\n",
    "for i in range(1,100):\n",
    "    if i % 3 == 0 and i % 5 == 0:\n",
    "        print(\"FizzBuzz\")\n",
    "    elif i % 3 == 0:\n",
    "        print(\"Fizz\")\n",
    "    elif i % 5 == 0:\n",
    "        print(\"Buzz\")\n",
    "    else:\n",
    "        print(i)\n"
   ]
  },
  {
   "cell_type": "markdown",
   "id": "1c8db6cc",
   "metadata": {},
   "source": [
    "#### Greatest Common Divisor (sometimes called Greatest Common Factor)\n",
    "\n",
    "A common operation in math, particularly *cryptography*, is finding a Greatest Common Divisor between two integers (we will focus on just positive integers).\n",
    "\n",
    "This means finding the largest integer which divides evenly into both numbers."
   ]
  },
  {
   "cell_type": "markdown",
   "id": "905301e2",
   "metadata": {},
   "source": [
    "**Example**:\n",
    "For the two integers 45 and 18, the GCD is 9.\n",
    "\n",
    "We can see this by breaking each down to their prime factorization:\n",
    "`45 = 3 * 3 * 5`\n",
    "\n",
    "`18 = 3 * 3 * 2`\n",
    "\n",
    "Then, taking the prime factors that are in common, `3*3`, the GCD is 9."
   ]
  },
  {
   "cell_type": "markdown",
   "id": "21c9870f",
   "metadata": {},
   "source": [
    "**Euclid's Method**\n",
    "\n",
    "The ancient Greek mathematician Euclid discovered a great way to find the GCD of any two integers `a` and `b`. \n",
    "\n",
    "He discovered that if `a % b = n`, `GCD(a,b) = GCD(b, n)`. We can use this truth in an algorithm, called the Euclidean algorithm. \n",
    "\n",
    "We will use the example from above. `a = 45` and `b = 18`\n",
    "\n",
    "```\n",
    "Start by taking a % b.\n",
    "\n",
    "45 % 18 = 9 because 45 = 18 * 2 + 9\n",
    "\n",
    "\n",
    "Now, set a equal to the OLD b value, and set b equal to the result of the previous a % b operation.\n",
    "\n",
    "a = 18\n",
    "b = 9\n",
    "\n",
    "\n",
    "Repeat the same operation above UNTIL b = 0.\n",
    "\n",
    "18 % 9 = 0\n",
    "\n",
    "Setting a to the OLD b, a = 9. And now b equals the result of the above operation, so b = 0. Now STOP.\n",
    "\n",
    "Return a. At this point, a = 9, so that is our GCD.\n",
    "```"
   ]
  },
  {
   "cell_type": "code",
   "execution_count": 3,
   "id": "00822db5",
   "metadata": {},
   "outputs": [],
   "source": [
    "# TODO - Write this algorithm as a Python function. Call it gcd() with two inputs, a & b."
   ]
  },
  {
   "cell_type": "code",
   "execution_count": 4,
   "id": "0fd51bed",
   "metadata": {},
   "outputs": [],
   "source": [
    "def GCD(a, b):\n",
    "    n = 0\n",
    "    while b != 0:\n",
    "        n = a % b\n",
    "        a = b\n",
    "        b = n\n",
    "    return a"
   ]
  },
  {
   "cell_type": "code",
   "execution_count": 5,
   "id": "32dd3e16",
   "metadata": {},
   "outputs": [
    {
     "data": {
      "text/plain": [
       "15"
      ]
     },
     "execution_count": 5,
     "metadata": {},
     "output_type": "execute_result"
    }
   ],
   "source": [
    "## TODO - Now, call your function with some example inputs. Check that the results make sense.\n",
    "\n",
    "GCD(45, 60)"
   ]
  },
  {
   "cell_type": "markdown",
   "id": "f81cb1d9",
   "metadata": {},
   "source": [
    "#### Co-Prime numbers"
   ]
  },
  {
   "cell_type": "markdown",
   "id": "aa27b349",
   "metadata": {},
   "source": [
    "**Definition**: Two numbers $m$ and $n$ are co-prime if `gcd(n, m) = 1`.\n",
    "\n",
    "We may want to know, how many numbers `m` are co-prime to `n`, where $1 \\le m < n$.\n",
    "\n",
    "We often call this value $\\phi (n)$. This is called *Euler's Totient Function.*\n",
    "\n",
    "Mathematicians have shown that *IF* a number *n* can be written as the product of two **primes**, $n = p \\cdot q$, $\\phi (n) = (p - 1)(q - 1)$."
   ]
  },
  {
   "cell_type": "markdown",
   "id": "940478ee",
   "metadata": {},
   "source": [
    "For example, 14 can be written as $2 \\cdot 7$, each of which are prime. Therefore, there are $(2-1)(7-1) = 1 \\cdot 6 = 6` numbers less than 14 that are also co-prime to 14.\n",
    "\n",
    "This is true, the six numbers that are coprime to 14 are: ${1, 3, 5, 9, 11, 13}$."
   ]
  },
  {
   "cell_type": "code",
   "execution_count": 6,
   "id": "a99e8a3b",
   "metadata": {},
   "outputs": [
    {
     "data": {
      "text/plain": [
       "6"
      ]
     },
     "execution_count": 6,
     "metadata": {},
     "output_type": "execute_result"
    }
   ],
   "source": [
    "## TODO - Please quickly write a function that takes two prime numbers, p and q, and finds the result\n",
    "## of the totient function using those two primes.\n",
    "## Then test that your function works by calling it on 2 & 7 from the above example.\n",
    "\n",
    "def phi(p, q):\n",
    "    return ((p - 1) * (q - 1))\n",
    "\n",
    "phi(2, 7)"
   ]
  },
  {
   "cell_type": "markdown",
   "id": "8e505ad6",
   "metadata": {},
   "source": [
    "#### Cryptography\n",
    "\n",
    "Now, let's actually jump into the field of **cryptography**. Later on we will need to remember these concepts of Greatest Common Divisor, Prime Numbers, and Co-Prime numbers.\n",
    "\n",
    "Cryptography is the study of *securing communication* - specifically it studies protocols for encrypting and decrypting private messages.\n",
    "\n",
    "**Encrypting** is the process of translating a message into one that is not immediately understandable by someone outside the system.\n",
    "\n",
    "Remember how we once described old flip phones as \"coding\" their text messages. In the provided cell phone keypad, in order to type \"Hello,\" you would have to press the following numbers: `44 33 555 555 666`.\n",
    "\n",
    "![PHONE KEYPAD](phone_keypad.jpg)\n",
    "\n",
    "\n",
    "It is said that Julius Caesar would cipher text by replacing each character with a different letter that was a fixed number of letters away in the alphabet:\n",
    "\n",
    "![Caesar Cipher](caeser_cipher.png)\n",
    "\n",
    "**Decrypting** messages is the process of going from the hidden message to the original, plain message. Ideally, only the intended receiver the message will be able to decrypt the message (which is a sign that it is secure)."
   ]
  },
  {
   "cell_type": "markdown",
   "id": "3402930b",
   "metadata": {},
   "source": [
    "**Encoding** is the process of simply matching each character in the message to a numeric value."
   ]
  },
  {
   "cell_type": "code",
   "execution_count": 7,
   "id": "916f46af",
   "metadata": {},
   "outputs": [
    {
     "name": "stdout",
     "output_type": "stream",
     "text": [
      "6298391227363848225\n"
     ]
    }
   ],
   "source": [
    "import binascii\n",
    "\n",
    "def encode(s):\n",
    "    b = s.encode('utf-8')\n",
    "    h = binascii.hexlify(b)\n",
    "    return int(h, 16)\n",
    "\n",
    "i = encode(\"Whassup!\")\n",
    "print(i)"
   ]
  },
  {
   "cell_type": "code",
   "execution_count": 8,
   "id": "f0bcce67",
   "metadata": {},
   "outputs": [
    {
     "name": "stdout",
     "output_type": "stream",
     "text": [
      "Whassup!\n"
     ]
    }
   ],
   "source": [
    "def decode(i):\n",
    "    h2 = hex(i)\n",
    "    h3 = h2[2:]\n",
    "    b2 = h3.encode('ascii')\n",
    "    b3 = binascii.unhexlify(b2)\n",
    "    return b3.decode('utf-8')\n",
    "\n",
    "print(decode(i))"
   ]
  },
  {
   "cell_type": "markdown",
   "id": "4ee217a9",
   "metadata": {},
   "source": [
    "#### Cryptography\n",
    "\n",
    "You might think that it is fine to transmit secret messages simply with the above encoding/decoding methods. However, it is not. If a nefarious individual got a hold of your encoded message, they are likely familiar with the UTF-8 and ASCII encoding schemes and could write a program to decode it.\n",
    "\n",
    "\n",
    "We need a way to change the encoded number in such a way that *only the sender and the receiver will understand*.\n",
    "\n",
    "In Cryptography, we generally accomplish this with a *public key* and a *private key*, each of which are pairs of numbers.\n",
    "\n",
    "The *public key* is given out to anyone who wants to send a secure message. They can use this to encrypt the secret message before sending. In fact, when your browser contains the lock symbol at the top, it means that your connection with the site is secure, and if you send secret information (like a credit card number or a password), your browser will use a provided public key to encrypt the information.\n",
    "\n",
    "![Secure Browser](browser_secure.png)\n",
    "\n",
    "The *private key* is used **only by the individual who is receiving the message**. The sender never knows what this is, but it is mathematically related to the public key, and is used to decipher the message.\n",
    "\n",
    "I like to imagine the scenario like this image, where the individual who receives the message gives out \"locks\" to anyone who wants to send a secret message, but the receiver is the only one which the actual key that can open the lock.\n",
    "\n",
    "![Lock image](GivingOutLocks.png)"
   ]
  },
  {
   "cell_type": "markdown",
   "id": "842a4ee4",
   "metadata": {},
   "source": [
    "**Here are the broad steps for sending and receiving a secure message**\n",
    "\n",
    "- Encode the message (turn the message from a plain string to a number)\n",
    "- Encrypt the message using the provided public key\n",
    "\n",
    "---- Message Sent ----\n",
    "\n",
    "- Decrypt the message using the secret private key\n",
    "- Decode the message from a number to a plain message."
   ]
  },
  {
   "cell_type": "markdown",
   "id": "7f4f70a2",
   "metadata": {},
   "source": [
    "#### RSA Cryptosystem\n",
    "\n",
    "The RSA cryptosystem uses numeric operations & patterns (the GCD / prime number / modulo operations we have learned) to encrypt and decrypt numeric messages. RSA stands for Rivest-Shamir-Adleman, who were the mathematicians that came up with this system.\n",
    "\n",
    "Let's start with encrypting a numeric message. According to RSA, the public key is a pair of two numbers `(e, n)`. To encrypt the numeric message, we must compute:\n",
    "\n",
    "$$\n",
    "m^{e} (\\text{mod } n)\n",
    "$$\n",
    "\n",
    "Normally, I would have you write an encrypt function that looks like this:\n",
    "\n",
    "```\n",
    "def encrypt(m, e, n):\n",
    "    return (m ** e) % n\n",
    "```\n",
    "\n",
    "However, this is slow. Instead, Python's `math` package has a `pow()` method that can take all three numbers, and compute `(a ^ b) % c` as `pow(a, b, c)`"
   ]
  },
  {
   "cell_type": "code",
   "execution_count": 9,
   "id": "e1173312",
   "metadata": {},
   "outputs": [
    {
     "name": "stdout",
     "output_type": "stream",
     "text": [
      "4\n"
     ]
    }
   ],
   "source": [
    "print((2**5)%14)"
   ]
  },
  {
   "cell_type": "code",
   "execution_count": 10,
   "id": "6fbdefa2",
   "metadata": {},
   "outputs": [],
   "source": [
    "def encrypt(m, e, n):\n",
    "    return pow(m, e, n)"
   ]
  },
  {
   "cell_type": "markdown",
   "id": "7669a108",
   "metadata": {},
   "source": [
    "To decrypt the message, we use a private key, which is a pair of numbers `(d, n)`. The number `n` is the same as the one in the public key. However, no one besides the receiver should know the value `d`.\n",
    "\n",
    "Simply raise the encrypted message `c` to the power `d`, and then take `mod n`:\n",
    "\n",
    "$$\n",
    "c^{d} (\\text{mod } n)\n",
    "$$"
   ]
  },
  {
   "cell_type": "code",
   "execution_count": 11,
   "id": "88249a21",
   "metadata": {},
   "outputs": [],
   "source": [
    "## TODO - define a function decrypt(c, d, n) which decrypts a numeric message c according\n",
    "## to the above formula\n",
    "\n",
    "def decrypt(c, d, n):\n",
    "    return pow(c, d, n)"
   ]
  },
  {
   "cell_type": "markdown",
   "id": "177d69d6",
   "metadata": {},
   "source": [
    "#### Put it all together\n",
    "\n",
    "Let's test that this encryption system works on *simple* messages.\n",
    "\n",
    "Let's encrypt the message `3` (perhaps it represents the letter C). First, call your `encrypt` function, then call your `decrypt` function with that result.\n",
    "\n",
    "Use `(5, 14)` as your public key and `(11, 14)` as your private key."
   ]
  },
  {
   "cell_type": "code",
   "execution_count": 12,
   "id": "a6594dd6",
   "metadata": {},
   "outputs": [
    {
     "data": {
      "text/plain": [
       "5"
      ]
     },
     "execution_count": 12,
     "metadata": {},
     "output_type": "execute_result"
    }
   ],
   "source": [
    "# TODO\n",
    "encMsg = encrypt(5, 7, 55)\n",
    "decMsg = decrypt(encMsg, 23, 55)\n",
    "decMsg"
   ]
  },
  {
   "cell_type": "markdown",
   "id": "05e45447",
   "metadata": {},
   "source": [
    "#### Generating Keys\n",
    "\n",
    "Now, let's see the steps for generating your private and public keys. You must begin with **two prime numbers**. In real life, programs will choose very large prime numbers so that they can encrypt large messages. Since we are just learning, we will encrypt single digit messages, and so we can use small prime numbers.\n",
    "\n",
    "Let's choose our two prime numbers. How about:\n",
    "`p = 2` &\n",
    "`q = 7`.\n",
    "\n",
    "Step one is to define `n` as the product of the two, so `n = p * q = 2 * 7 = 14`.\n",
    "\n",
    "Step two, we want to find the \"totient\" of `n` - that is, compute the `phi` function from earlier:\n",
    "\n",
    "$$\n",
    "\\phi (n) = (p - 1)(q - 1)\n",
    "$$\n",
    "\n",
    "So for our example, `phi(n) = (2 - 1) * (7 - 1) = 6`\n",
    "\n",
    "Step three is to find a number `e` greater than 1 and less than $\\phi (n)$ that is **co-prime** to the number you found in step 2.\n",
    "\n",
    "So we should find a number between 1 and 60 where `gcd(6, e)` = 1.\n",
    "In code, you could write a while loop to keep trying numbers until you find one.\n",
    "\n",
    "This is a simple example. We know that `gcd(6, 5)` = 1. So let's choose `5` as our value for `e` and it is part of the public key.\n",
    "\n",
    "Now, we need to find our private key `d` which corresponds to the values `e` and `n` that we have already found.\n",
    "\n",
    "Step four is to choose a `d` such that:\n",
    "\n",
    "`d * e (mod phi(n)) = 1`\n",
    "\n",
    "So for us, `phi(n) = 6` and `e = 5`. If we are taking `mod 6`, let's find a number such that it has a remainder of 1 when we divide by 6, but it also has 5 as a factor.\n",
    "\n",
    "`55` works, because `gcd(55, 6) = 1` (54 is a multiple of 6). When we divide by 5, we get **`d = 11`**.\n",
    "\n",
    "#### Final Answer\n",
    "\n",
    "`e = 5`\n",
    "`d = 11`\n",
    "`n = 14`\n",
    "\n",
    "So the public key is `(5, 14)` and the private key is `(11, 14)`"
   ]
  },
  {
   "cell_type": "markdown",
   "id": "5d57880d",
   "metadata": {},
   "source": [
    "### Activity\n",
    "\n",
    "Write code to *generate your own public and private keys*. Follow the steps above, but start with two prime numbers *different than* the ones I provided you. Use the `gcd` and `phi` functions that you already implemented.\n",
    "\n",
    "Do so in the below block of code. Once you have come up with your two pairs, write the *public key* down on a piece of paper. But keep the private key to yourselves."
   ]
  },
  {
   "cell_type": "code",
   "execution_count": 13,
   "id": "20e972b3",
   "metadata": {},
   "outputs": [],
   "source": [
    "## TODO - code block to produce key pairs.\n",
    "\n",
    "p = 11\n",
    "q = 13\n",
    "n = p * q\n",
    "phi_n = (p - 1)*(q - 1)\n",
    "e = 37\n",
    "d = 0\n",
    "while((d * e) % phi_n != 1):\n",
    "    d = d+1\n",
    "#public key (37, 143)\n",
    "#private key (1, 143)"
   ]
  },
  {
   "cell_type": "markdown",
   "id": "aba0f5c7",
   "metadata": {},
   "source": [
    "Next, meet up with another group. *Give them the pair of numbers for your public key*. And similarly, receive the pair of numbers for their public key.\n",
    "\n",
    "Within your own group, decide on a message to give to the other group. It should be a number between 1 and 26 to represent a letter of the alphabet. *Encrypt it* using the `encrypt` method you implemented, along with the public key they gave you.\n",
    "\n",
    "Next, tell that encrypted message to the other group, and they will tell you theirs.\n",
    "\n",
    "**Decrypt** the message they gave you using your own private key. Ask them if you got the correct one!"
   ]
  },
  {
   "cell_type": "code",
   "execution_count": 14,
   "id": "11cc2b3d",
   "metadata": {},
   "outputs": [
    {
     "data": {
      "text/plain": [
       "41"
      ]
     },
     "execution_count": 14,
     "metadata": {},
     "output_type": "execute_result"
    }
   ],
   "source": [
    "## TODO - Encrypt your own message using the key provided by the other group.\n",
    "#public key (13, 77)\n",
    "# M = 13\n",
    "encrypt_Msg = pow(13, 13, 77)\n",
    "encrypt_Msg\n"
   ]
  },
  {
   "cell_type": "code",
   "execution_count": 15,
   "id": "2beb6318",
   "metadata": {},
   "outputs": [
    {
     "data": {
      "text/plain": [
       "7"
      ]
     },
     "execution_count": 15,
     "metadata": {},
     "output_type": "execute_result"
    }
   ],
   "source": [
    "## TODO - Decrypt the other group's message using your own private key.\n",
    "#72\n",
    "decrypt_Msg = pow(72, 13, 143)\n",
    "decrypt_Msg"
   ]
  }
 ],
 "metadata": {
  "kernelspec": {
   "display_name": "Python 3 (ipykernel)",
   "language": "python",
   "name": "python3"
  },
  "language_info": {
   "codemirror_mode": {
    "name": "ipython",
    "version": 3
   },
   "file_extension": ".py",
   "mimetype": "text/x-python",
   "name": "python",
   "nbconvert_exporter": "python",
   "pygments_lexer": "ipython3",
   "version": "3.11.2"
  }
 },
 "nbformat": 4,
 "nbformat_minor": 5
}
